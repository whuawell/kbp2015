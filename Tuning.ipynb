{
 "cells": [
  {
   "cell_type": "code",
   "execution_count": 1,
   "metadata": {
    "collapsed": false
   },
   "outputs": [],
   "source": [
    "%load_ext autoreload\n",
    "%autoreload 2\n",
    "%matplotlib inline"
   ]
  },
  {
   "cell_type": "code",
   "execution_count": 2,
   "metadata": {
    "collapsed": true
   },
   "outputs": [],
   "source": [
    "import json\n",
    "import os"
   ]
  },
  {
   "cell_type": "code",
   "execution_count": 5,
   "metadata": {
    "collapsed": false
   },
   "outputs": [
    {
     "name": "stdout",
     "output_type": "stream",
     "text": [
      "best {u'train_loss': 1.0794981872265945, u'train_acc': 0.7284604564548747, u'dev_acc': 0.3920704533576153, u'epoch': 45, u'dev_loss': 2.3265600002681217, 'exp': 'tuning/python_train.py_data_senna0_model=classification/lr=0.01_mem_dim=1000_hidden=100_dropout=0.5_truncate_grad=25_activation=relu.out.txt'}\n",
      "best {u'train_loss': 0.14559071052746178, u'train_acc': 0.9516054209350512, u'dev_acc': 0.7218578578759729, u'epoch': 43, u'dev_loss': 0.7320913213355068, 'exp': 'tuning/python_train.py_data_senna0_model=filter/lr=0.1_mem_dim=1000_hidden=30_dropout=0.5_truncate_grad=100_activation=relu.out.txt'}\n"
     ]
    }
   ],
   "source": [
    "def get_best(experiments):\n",
    "    best_in_exp = None\n",
    "    for e in experiments:\n",
    "        with open(e) as f:\n",
    "            for l in f:\n",
    "                l = l.strip(\"\\n\")\n",
    "                if l.startswith('{') and l.endswith('}'):\n",
    "                    d = json.loads(l)\n",
    "                    d['dev_acc'] = float(d['dev_acc'])\n",
    "                    if best_in_exp is None or d['dev_acc'] > best_in_exp['dev_acc']:\n",
    "                        # print d['dev_acc'], f.name\n",
    "                        d['exp'] = f.name\n",
    "                        best_in_exp = d\n",
    "    print 'best', best_in_exp\n",
    "                    \n",
    "exp_dir = os.path.join('tuning')\n",
    "experiments = []\n",
    "for d in os.listdir(exp_dir):\n",
    "    d = os.path.join(exp_dir, d)\n",
    "    if os.path.isdir(d):\n",
    "        experiments = [os.path.join(d, f) for f in os.listdir(d) if f.endswith('.out.txt')]\n",
    "    get_best(experiments)"
   ]
  },
  {
   "cell_type": "code",
   "execution_count": null,
   "metadata": {
    "collapsed": true
   },
   "outputs": [],
   "source": []
  }
 ],
 "metadata": {
  "kernelspec": {
   "display_name": "Python 2",
   "language": "python",
   "name": "python2"
  },
  "language_info": {
   "codemirror_mode": {
    "name": "ipython",
    "version": 2
   },
   "file_extension": ".py",
   "mimetype": "text/x-python",
   "name": "python",
   "nbconvert_exporter": "python",
   "pygments_lexer": "ipython2",
   "version": "2.7.9"
  }
 },
 "nbformat": 4,
 "nbformat_minor": 0
}
