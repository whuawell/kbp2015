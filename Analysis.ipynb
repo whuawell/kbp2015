{
 "cells": [
  {
   "cell_type": "code",
   "execution_count": null,
   "metadata": {
    "collapsed": true
   },
   "outputs": [],
   "source": []
  },
  {
   "cell_type": "code",
   "execution_count": null,
   "metadata": {
    "collapsed": true
   },
   "outputs": [],
   "source": [
    "import cPickle as pkl\n",
    "from sklearn.metrics import f1_score\n",
    "\n",
    "def read_log(folder):\n",
    "    with open(os.path.join(folder, 'train.log')) as f:\n",
    "        logs = {}\n",
    "        for l in f:\n",
    "            d = json.loads(l.strip(\"\\n\"))\n",
    "            for k, v in d.items():\n",
    "                if k not in logs:\n",
    "                    logs[k] = []\n",
    "                logs[k] += [v]\n",
    "    return logs\n",
    "\n",
    "def read_args(folder):\n",
    "    with open(os.path.join(folder, 'args.json')) as f:\n",
    "        return json.load(f)\n",
    "\n",
    "def read_test(folder):\n",
    "    with open(os.path.join(folder, 'test.json')) as f:\n",
    "        test = json.load(f)\n",
    "    with open(os.path.join(folder, 'test.pkl')) as f:\n",
    "        d = pkl.load(f)\n",
    "    pred, targ = d['pred'], d['targ']\n",
    "    \n",
    "    counts = Counter(targ.tolist())\n",
    "    order = np.array([e[0] for e in counts.most_common()])\n",
    "    counts = np.array([e[1] for e in counts.most_common()])\n",
    "    \n",
    "    cm = confusion_matrix(targ, pred, order)\n",
    "    cm = cm.astype('float') / cm.sum(axis=1)[:, np.newaxis]\n",
    "    \n",
    "    f1_macro = f1_score(targ, pred, average='macro')\n",
    "    f1_micro = f1_score(targ, pred, average='micro')\n",
    "    return test, cm, counts, order, f1_macro, f1_micro\n",
    "\n",
    "props = dict(boxstyle='round', facecolor='wheat', alpha=0.5)\n",
    "\n",
    "\n",
    "def plot_confusion_matrix(ax, cm, order, title='Confusion matrix', cmap=P.cm.Blues):\n",
    "    names = [d.vocab['rel'].index2word[o] for o in order]\n",
    "    handle = ax.imshow(cm, interpolation='nearest', cmap=matplotlib.cm.Blues)\n",
    "    ax.set_title(title)\n",
    "    P.colorbar(handle, ax=ax)\n",
    "    tick_marks = np.arange(len(names))\n",
    "    ax.set_xticks(tick_marks)\n",
    "    ax.set_yticks(tick_marks)\n",
    "    ax.set_xticklabels(names, rotation=90)\n",
    "    ax.set_yticklabels(names)\n",
    "    ax.set_ylabel('True label')\n",
    "    ax.set_xlabel('Predicted label')\n",
    "    P.tight_layout()\n",
    "    \n",
    "\n",
    "def print_experiment(e):\n",
    "    args = read_args(e)\n",
    "    logs = read_log(e)\n",
    "    test, cm, counts, order, f1_macro, f1_micro = read_test(e)\n",
    "    args.update(test)\n",
    "    args.update({'f1_macro': f1_macro, 'f1_micro': f1_micro})\n",
    "    \n",
    "    fig, ax = P.subplots(2, 2, figsize=(15, 15))\n",
    "    \n",
    "    desc = ax[0][0]\n",
    "    conf = ax[0][1]\n",
    "    acc = ax[1][0]\n",
    "    hist = ax[1][1]\n",
    "    \n",
    "    desc.text(0.05, 0.95, pformat(args, indent=2), transform=desc.transAxes, fontsize=10,\n",
    "        verticalalignment='top', bbox=props)\n",
    "    \n",
    "    plot_histogram(hist, counts, order)\n",
    "    plot_confusion_matrix(conf, cm, order)\n",
    "    acc.plot(logs['train_acc'], label='train', color='b')\n",
    "    acc.plot(logs['dev_acc'], label='dev', color='r')\n",
    "    acc.set_ylabel('accuracy')\n",
    "    acc.legend(loc='lower right')\n",
    "    #     loss.plot(logs['train_loss'], label='train', color='b')\n",
    "    #     loss.plot(logs['dev_loss'], label='dev', color='r')\n",
    "    #     loss.set_ylabel('loss')\n",
    "    #     loss.legend(loc='upper right')\n",
    "    print 'processed', e"
   ]
  },
  {
   "cell_type": "code",
   "execution_count": null,
   "metadata": {
    "collapsed": true
   },
   "outputs": [],
   "source": [
    "P.close('all')\n",
    "for e in experiments:\n",
    "    print_experiment(e)"
   ]
  }
 ],
 "metadata": {
  "kernelspec": {
   "display_name": "Python 2",
   "language": "python",
   "name": "python2"
  },
  "language_info": {
   "codemirror_mode": {
    "name": "ipython",
    "version": 2
   },
   "file_extension": ".py",
   "mimetype": "text/x-python",
   "name": "python",
   "nbconvert_exporter": "python",
   "pygments_lexer": "ipython2",
   "version": "2.7.9"
  }
 },
 "nbformat": 4,
 "nbformat_minor": 0
}
